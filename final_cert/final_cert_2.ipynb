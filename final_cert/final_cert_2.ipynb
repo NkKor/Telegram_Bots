{
 "cells": [
  {
   "cell_type": "code",
   "execution_count": 1,
   "metadata": {},
   "outputs": [
    {
     "name": "stdout",
     "output_type": "stream",
     "text": [
      "[[1], [1, 1], [1, 2, 1]]\n"
     ]
    }
   ],
   "source": [
    "# 1 - треугольник Паскаля\n",
    "def build_pascal_triangle(n):\n",
    "    triangle = [[1]]\n",
    "    for i in range(1, n):\n",
    "        row = [1]\n",
    "        for j in range(1, i):\n",
    "            row.append(triangle[i-1][j-1] + triangle[i-1][j])\n",
    "        row.append(1)\n",
    "        triangle.append(row)\n",
    "    return triangle\n",
    "\n",
    "n = int(input(\"Введите количество уровней треугольника: \"))\n",
    "print(build_pascal_triangle(n))"
   ]
  },
  {
   "cell_type": "code",
   "execution_count": 18,
   "metadata": {},
   "outputs": [
    {
     "name": "stdout",
     "output_type": "stream",
     "text": [
      "3\n"
     ]
    }
   ],
   "source": [
    "# 2 - Кузнечик Павел\n",
    "def number_of_ways(n):\n",
    "    A = [0, 1] + [0]* (n-1)\n",
    "    for i in range(2, n+1):\n",
    "        third = 0\n",
    "        if i%3 ==0 and i//3 != (i-2) and i//3 != (i-1):\n",
    "            third = i//3\n",
    "        A[i] = A[i-1] + A[i-2] + A[third]\n",
    "    return A[n]\n",
    "n = int(input(\"Введите расстояние: \"))\n",
    "print(number_of_ways(n))"
   ]
  },
  {
   "cell_type": "code",
   "execution_count": 16,
   "metadata": {},
   "outputs": [
    {
     "name": "stdout",
     "output_type": "stream",
     "text": [
      "          name continent     area  population           gdp\n",
      "0  Afghanistan      Asia   652230    25500100   20343000000\n",
      "2      Algeria    Africa  2381741    37100000  188681000000\n"
     ]
    }
   ],
   "source": [
    "# 3 - датафрейм\n",
    "import pandas as pd\n",
    "data={'name':['Afghanistan','Albania','Algeria','Andorra','Angola'],\n",
    "      'continent':['Asia','Europe','Africa','Europe','Africa'],\n",
    "      'area':[652230,28748,2381741,468,1246700],\n",
    "      'population':[25500100,2831741,37100000,78115,20609294],\n",
    "      'gdp':[20343000000,12960000000,188681000000,3712000000,100990000000]}\n",
    "world=pd.DataFrame(data)\n",
    "big_countries = world.loc[(world['area'] > 3000000) | (world['population'] > 25000000)]\n",
    "print(big_countries)"
   ]
  },
  {
   "cell_type": "code",
   "execution_count": null,
   "metadata": {},
   "outputs": [],
   "source": []
  }
 ],
 "metadata": {
  "kernelspec": {
   "display_name": "base",
   "language": "python",
   "name": "python3"
  },
  "language_info": {
   "codemirror_mode": {
    "name": "ipython",
    "version": 3
   },
   "file_extension": ".py",
   "mimetype": "text/x-python",
   "name": "python",
   "nbconvert_exporter": "python",
   "pygments_lexer": "ipython3",
   "version": "3.12.4"
  }
 },
 "nbformat": 4,
 "nbformat_minor": 2
}
